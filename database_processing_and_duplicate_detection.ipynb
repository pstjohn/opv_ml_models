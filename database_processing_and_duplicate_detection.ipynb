{
 "cells": [
  {
   "cell_type": "code",
   "execution_count": 1,
   "metadata": {},
   "outputs": [],
   "source": [
    "import numpy as np\n",
    "import pandas as pd\n",
    "\n",
    "import matplotlib.pyplot as plt\n",
    "import seaborn as sns\n",
    "sns.set(context='talk', style='ticks', color_codes=True)\n",
    "\n",
    "%matplotlib inline"
   ]
  },
  {
   "cell_type": "code",
   "execution_count": 4,
   "metadata": {},
   "outputs": [],
   "source": [
    "df = pd.read_csv('data/opv_db.csv.gz')\n",
    "df = df.drop_duplicates(subset='mol')"
   ]
  },
  {
   "cell_type": "code",
   "execution_count": 5,
   "metadata": {},
   "outputs": [
    {
     "data": {
      "text/html": [
       "<div>\n",
       "<style scoped>\n",
       "    .dataframe tbody tr th:only-of-type {\n",
       "        vertical-align: middle;\n",
       "    }\n",
       "\n",
       "    .dataframe tbody tr th {\n",
       "        vertical-align: top;\n",
       "    }\n",
       "\n",
       "    .dataframe thead th {\n",
       "        text-align: right;\n",
       "    }\n",
       "</style>\n",
       "<table border=\"1\" class=\"dataframe\">\n",
       "  <thead>\n",
       "    <tr style=\"text-align: right;\">\n",
       "      <th></th>\n",
       "      <th>mol</th>\n",
       "      <th>ctag</th>\n",
       "      <th>basis</th>\n",
       "      <th>total_energy</th>\n",
       "      <th>optical_lumo</th>\n",
       "      <th>gap</th>\n",
       "      <th>homo</th>\n",
       "      <th>lumo</th>\n",
       "      <th>spectral_overlap</th>\n",
       "      <th>delta_homo</th>\n",
       "      <th>delta_lumo</th>\n",
       "      <th>delta_optical_lumo</th>\n",
       "      <th>homo_extrapolated</th>\n",
       "      <th>lumo_extrapolated</th>\n",
       "      <th>gap_extrapolated</th>\n",
       "      <th>optical_lumo_extrapolated</th>\n",
       "      <th>smile</th>\n",
       "    </tr>\n",
       "  </thead>\n",
       "  <tbody>\n",
       "    <tr>\n",
       "      <th>0</th>\n",
       "      <td>blank\\n OpenBabel03101821053D\\n\\n 54 59  0  0 ...</td>\n",
       "      <td>A82_f2f2R3R3_A37_R3R3</td>\n",
       "      <td>b3lyp/6-31g(d)</td>\n",
       "      <td>-2478.290623</td>\n",
       "      <td>-4.114336</td>\n",
       "      <td>1.5274</td>\n",
       "      <td>-5.641736</td>\n",
       "      <td>-3.572038</td>\n",
       "      <td>334.874280</td>\n",
       "      <td>0.120546</td>\n",
       "      <td>0.051702</td>\n",
       "      <td>0.042554</td>\n",
       "      <td>-5.400643</td>\n",
       "      <td>-3.675442</td>\n",
       "      <td>1.2012</td>\n",
       "      <td>-4.199443</td>\n",
       "      <td>CC1Nc2c(csc2C2=C(C(F)(F)F)C3=C4C(=CC(C(F)(F)F)...</td>\n",
       "    </tr>\n",
       "    <tr>\n",
       "      <th>1</th>\n",
       "      <td>blank\\n OpenBabel03151802573D\\n\\n 45 49  0  0 ...</td>\n",
       "      <td>A85_f1Rf2f1f1f1_D203_R3</td>\n",
       "      <td>b3lyp/6-31g(d)</td>\n",
       "      <td>-2052.769368</td>\n",
       "      <td>-2.006853</td>\n",
       "      <td>3.1595</td>\n",
       "      <td>-5.166353</td>\n",
       "      <td>-1.493361</td>\n",
       "      <td>58.877443</td>\n",
       "      <td>-0.049253</td>\n",
       "      <td>0.143404</td>\n",
       "      <td>0.126153</td>\n",
       "      <td>-5.264859</td>\n",
       "      <td>-1.780169</td>\n",
       "      <td>3.0057</td>\n",
       "      <td>-2.259159</td>\n",
       "      <td>CN1c2ccccc2Sc2ccc(-c3cccc4c3C(F)(F)N(C(F)(F)F)...</td>\n",
       "    </tr>\n",
       "    <tr>\n",
       "      <th>2</th>\n",
       "      <td>blank\\n OpenBabel03131820523D\\n\\n106119  0  0 ...</td>\n",
       "      <td>T2_R2_D1_R3R3R0R0_A1_R3R3R0R0R0R0_D1_R3R3R0R0_...</td>\n",
       "      <td>camb3lyp/6-31g</td>\n",
       "      <td>NaN</td>\n",
       "      <td>-3.704025</td>\n",
       "      <td>2.3418</td>\n",
       "      <td>-6.045825</td>\n",
       "      <td>-1.940172</td>\n",
       "      <td>6560.060657</td>\n",
       "      <td>NaN</td>\n",
       "      <td>NaN</td>\n",
       "      <td>NaN</td>\n",
       "      <td>NaN</td>\n",
       "      <td>NaN</td>\n",
       "      <td>NaN</td>\n",
       "      <td>NaN</td>\n",
       "      <td>COc1cc2sc(-c3cc4c(C)c5sc(-c6ccc(C7=C8C(=O)N(C)...</td>\n",
       "    </tr>\n",
       "    <tr>\n",
       "      <th>3</th>\n",
       "      <td>acc1_A25__D36_R3R3_A3_R3R3__n1 TD-DFT\\n OpenBa...</td>\n",
       "      <td>A25__D36_R3R3_A3_R3R3</td>\n",
       "      <td>b3lyp/6-31g(d)</td>\n",
       "      <td>NaN</td>\n",
       "      <td>-3.073137</td>\n",
       "      <td>2.2456</td>\n",
       "      <td>-5.318737</td>\n",
       "      <td>-2.673518</td>\n",
       "      <td>792.089714</td>\n",
       "      <td>0.026667</td>\n",
       "      <td>0.123540</td>\n",
       "      <td>0.095633</td>\n",
       "      <td>-5.265403</td>\n",
       "      <td>-2.920598</td>\n",
       "      <td>2.0010</td>\n",
       "      <td>-3.264403</td>\n",
       "      <td>CN.CN.CN1C(=O)c2cn(C)c(CNc3ccc4cc(NCc5cccc6nc7...</td>\n",
       "    </tr>\n",
       "    <tr>\n",
       "      <th>4</th>\n",
       "      <td>blank\\n OpenBabel03111814573D\\n\\n 62 69  0  0 ...</td>\n",
       "      <td>D62_R0R0R3R0R0R3_A18_R3R3</td>\n",
       "      <td>b3lyp/6-31g(d)</td>\n",
       "      <td>-3017.605039</td>\n",
       "      <td>-3.027123</td>\n",
       "      <td>1.9795</td>\n",
       "      <td>-5.006623</td>\n",
       "      <td>-2.682770</td>\n",
       "      <td>1386.499986</td>\n",
       "      <td>0.187759</td>\n",
       "      <td>0.235923</td>\n",
       "      <td>0.150841</td>\n",
       "      <td>-4.631105</td>\n",
       "      <td>-3.154616</td>\n",
       "      <td>1.3023</td>\n",
       "      <td>-3.328805</td>\n",
       "      <td>Cc1ccc(-c2c3cc(-c4scc5cc6c(cc45)C(=O)[Si](C)(C...</td>\n",
       "    </tr>\n",
       "  </tbody>\n",
       "</table>\n",
       "</div>"
      ],
      "text/plain": [
       "                                                 mol  \\\n",
       "0  blank\\n OpenBabel03101821053D\\n\\n 54 59  0  0 ...   \n",
       "1  blank\\n OpenBabel03151802573D\\n\\n 45 49  0  0 ...   \n",
       "2  blank\\n OpenBabel03131820523D\\n\\n106119  0  0 ...   \n",
       "3  acc1_A25__D36_R3R3_A3_R3R3__n1 TD-DFT\\n OpenBa...   \n",
       "4  blank\\n OpenBabel03111814573D\\n\\n 62 69  0  0 ...   \n",
       "\n",
       "                                                ctag           basis  \\\n",
       "0                              A82_f2f2R3R3_A37_R3R3  b3lyp/6-31g(d)   \n",
       "1                            A85_f1Rf2f1f1f1_D203_R3  b3lyp/6-31g(d)   \n",
       "2  T2_R2_D1_R3R3R0R0_A1_R3R3R0R0R0R0_D1_R3R3R0R0_...  camb3lyp/6-31g   \n",
       "3                              A25__D36_R3R3_A3_R3R3  b3lyp/6-31g(d)   \n",
       "4                          D62_R0R0R3R0R0R3_A18_R3R3  b3lyp/6-31g(d)   \n",
       "\n",
       "   total_energy  optical_lumo     gap      homo      lumo  spectral_overlap  \\\n",
       "0  -2478.290623     -4.114336  1.5274 -5.641736 -3.572038        334.874280   \n",
       "1  -2052.769368     -2.006853  3.1595 -5.166353 -1.493361         58.877443   \n",
       "2           NaN     -3.704025  2.3418 -6.045825 -1.940172       6560.060657   \n",
       "3           NaN     -3.073137  2.2456 -5.318737 -2.673518        792.089714   \n",
       "4  -3017.605039     -3.027123  1.9795 -5.006623 -2.682770       1386.499986   \n",
       "\n",
       "   delta_homo  delta_lumo  delta_optical_lumo  homo_extrapolated  \\\n",
       "0    0.120546    0.051702            0.042554          -5.400643   \n",
       "1   -0.049253    0.143404            0.126153          -5.264859   \n",
       "2         NaN         NaN                 NaN                NaN   \n",
       "3    0.026667    0.123540            0.095633          -5.265403   \n",
       "4    0.187759    0.235923            0.150841          -4.631105   \n",
       "\n",
       "   lumo_extrapolated  gap_extrapolated  optical_lumo_extrapolated  \\\n",
       "0          -3.675442            1.2012                  -4.199443   \n",
       "1          -1.780169            3.0057                  -2.259159   \n",
       "2                NaN               NaN                        NaN   \n",
       "3          -2.920598            2.0010                  -3.264403   \n",
       "4          -3.154616            1.3023                  -3.328805   \n",
       "\n",
       "                                               smile  \n",
       "0  CC1Nc2c(csc2C2=C(C(F)(F)F)C3=C4C(=CC(C(F)(F)F)...  \n",
       "1  CN1c2ccccc2Sc2ccc(-c3cccc4c3C(F)(F)N(C(F)(F)F)...  \n",
       "2  COc1cc2sc(-c3cc4c(C)c5sc(-c6ccc(C7=C8C(=O)N(C)...  \n",
       "3  CN.CN.CN1C(=O)c2cn(C)c(CNc3ccc4cc(NCc5cccc6nc7...  \n",
       "4  Cc1ccc(-c2c3cc(-c4scc5cc6c(cc45)C(=O)[Si](C)(C...  "
      ]
     },
     "execution_count": 5,
     "metadata": {},
     "output_type": "execute_result"
    }
   ],
   "source": [
    "df.head()"
   ]
  },
  {
   "cell_type": "code",
   "execution_count": 4,
   "metadata": {},
   "outputs": [],
   "source": [
    "df_b3 = df[df.basis == 'b3lyp/6-31g(d)']\n",
    "df_camb = df[df.basis == 'camb3lyp/6-31g']"
   ]
  },
  {
   "cell_type": "markdown",
   "metadata": {},
   "source": [
    "## Quantifying the optimal error rate through duplicated molecules"
   ]
  },
  {
   "cell_type": "code",
   "execution_count": 5,
   "metadata": {},
   "outputs": [],
   "source": [
    "import itertools\n",
    "\n",
    "props = ['gap', 'homo', 'lumo', 'spectral_overlap', 'homo_extrapolated',\n",
    "         'lumo_extrapolated', 'gap_extrapolated', 'optical_lumo_extrapolated']\n",
    "\n",
    "def iter_duplicates(df_input):\n",
    "    \n",
    "    for ismiles, df in df_input[\n",
    "        df_input.smile.duplicated(keep=False)].groupby('smile'):\n",
    "        for df1, df2 in itertools.combinations(df.loc[:, props].iterrows(), 2):\n",
    "            df_1 = df1[1].copy()\n",
    "            df_1.index += '_1'\n",
    "            \n",
    "            df_2 = df2[1].copy()\n",
    "            df_2.index += '_2'\n",
    "            \n",
    "            comb = df_1.append(df_2)\n",
    "            comb['id_1'] = df1[0]\n",
    "            comb['id_2'] = df2[0]\n",
    "\n",
    "            yield comb\n",
    "\n",
    "\n",
    "duplicates_b3 = pd.DataFrame(iter_duplicates(df_b3))\n",
    "duplicates_camb = pd.DataFrame(iter_duplicates(df_camb))"
   ]
  },
  {
   "cell_type": "code",
   "execution_count": 46,
   "metadata": {},
   "outputs": [],
   "source": [
    "duplicates_b3.to_csv('duplicates_b3.csv', index=False)"
   ]
  },
  {
   "cell_type": "code",
   "execution_count": 44,
   "metadata": {},
   "outputs": [
    {
     "data": {
      "image/png": "[encoded data removed]",
      "text/plain": [
       "<Figure size 864x360 with 8 Axes>"
      ]
     },
     "metadata": {},
     "output_type": "display_data"
    }
   ],
   "source": [
    "with sns.plotting_context('notebook'):\n",
    "\n",
    "    fig, axmatrix = plt.subplots(nrows=2, ncols=4, figsize=(12, 5), sharey=False)\n",
    "\n",
    "    def plot_yx_line(ax):\n",
    "        lims = [\n",
    "            np.min([ax.get_xlim(), ax.get_ylim()]),  # min of both axes\n",
    "            np.max([ax.get_xlim(), ax.get_ylim()]),  # max of both axes\n",
    "        ]\n",
    "\n",
    "        ax.plot(lims, lims, '--', color='0.6', zorder=0)\n",
    "\n",
    "        ax.set_aspect('equal')\n",
    "        ax.set_adjustable('box')\n",
    "\n",
    "    for i, (ax, prop) in enumerate(zip(axmatrix.flatten(), props)):\n",
    "        \n",
    "        \n",
    "        prop_df = duplicates_b3.loc[:, [prop + '_1', prop + '_2']].dropna()\n",
    "        \n",
    "        \n",
    "        if prop is not 'spectral_overlap':\n",
    "            xlim = [-250, 250]\n",
    "            prop_df *= 1000\n",
    "            \n",
    "        else:\n",
    "            xlim = [-500, 500]\n",
    "            \n",
    "        \n",
    "\n",
    "#         ax.plot(duplicates_b3[prop + '_1'], duplicates_b3[prop + '_2'], 'k.',\n",
    "#                 ms=1, alpha=.1, rasterized=True)\n",
    "\n",
    "#         plot_yx_line(ax)\n",
    "\n",
    "        ax.hist(prop_df.iloc[:, 0] - prop_df.iloc[:, 1], bins=21, range=xlim, density=True)\n",
    "\n",
    "\n",
    "\n",
    "#         ax.text(1., 0.05, 'MAE: {0:.3f}'.format(mae),\n",
    "#                 ha='right', va='bottom', transform=ax.transAxes)\n",
    "\n",
    "        ax.set_title(prop)\n",
    "\n",
    "    # axmatrix[-1, -1].remove()\n",
    "\n",
    "    sns.despine()\n",
    "    plt.tight_layout()\n",
    "    # plt.savefig('2018_19_04_15_35_duplicated_polymer_prop_results.svg', transparent=True, dpi=200)"
   ]
  },
  {
   "cell_type": "code",
   "execution_count": 42,
   "metadata": {},
   "outputs": [
    {
     "name": "stderr",
     "output_type": "stream",
     "text": [
      "/rufous/pstjohn/miniconda3/envs/tf/lib/python3.6/site-packages/matplotlib/axes/_axes.py:6571: UserWarning: The 'normed' kwarg is deprecated, and has been replaced by the 'density' kwarg.\n",
      "  warnings.warn(\"The 'normed' kwarg is deprecated, and has been \"\n"
     ]
    },
    {
     "data": {
      "text/plain": [
       "(array([6.79344848e-06, 3.39672424e-06, 0.00000000e+00, 3.39672424e-06,\n",
       "        3.39672424e-06, 1.35868970e-05, 2.37770697e-05, 2.37770697e-05,\n",
       "        1.69836212e-05, 3.39672424e-05, 8.15213817e-05, 8.83148302e-05,\n",
       "        1.42662418e-04, 2.98911733e-04, 5.16302084e-04, 1.85121471e-03,\n",
       "        6.58624830e-03, 8.45784336e-04, 3.29482251e-04, 1.66439488e-04,\n",
       "        8.83148302e-05, 6.11410363e-05, 5.43475878e-05, 3.39672424e-05,\n",
       "        1.35868970e-05, 1.01901727e-05, 1.69836212e-05, 2.03803454e-05,\n",
       "        1.01901727e-05, 3.39672424e-06, 6.79344848e-06]),\n",
       " array([-1424.38124698, -1336.31624828, -1248.25124959, -1160.18625089,\n",
       "        -1072.1212522 ,  -984.0562535 ,  -895.99125481,  -807.92625611,\n",
       "         -719.86125742,  -631.79625872,  -543.73126003,  -455.66626133,\n",
       "         -367.60126263,  -279.53626394,  -191.47126524,  -103.40626655,\n",
       "          -15.34126785,    72.72373084,   160.78872954,   248.85372823,\n",
       "          336.91872693,   424.98372562,   513.04872432,   601.11372301,\n",
       "          689.17872171,   777.2437204 ,   865.3087191 ,   953.3737178 ,\n",
       "         1041.43871649,  1129.50371519,  1217.56871388,  1305.63371258]),\n",
       " <a list of 31 Patch objects>)"
      ]
     },
     "execution_count": 42,
     "metadata": {},
     "output_type": "execute_result"
    },
    {
     "data": {
      "image/png": "[encoded data removed]",
      "text/plain": [
       "<Figure size 432x288 with 1 Axes>"
      ]
     },
     "metadata": {},
     "output_type": "display_data"
    }
   ],
   "source": [
    "plt.hist((duplicates_b3['spectral_overlap_1'] - duplicates_b3['spectral_overlap_2']).dropna(), bins=31, normed=True)"
   ]
  },
  {
   "cell_type": "code",
   "execution_count": 51,
   "metadata": {},
   "outputs": [
    {
     "data": {
      "text/plain": [
       "gap                          28.0\n",
       "homo                         22.0\n",
       "lumo                         25.5\n",
       "spectral_overlap             81.3\n",
       "homo_extrapolated            37.4\n",
       "lumo_extrapolated            45.0\n",
       "gap_extrapolated             46.3\n",
       "optical_lumo_extrapolated    42.6\n",
       "dtype: float64"
      ]
     },
     "execution_count": 51,
     "metadata": {},
     "output_type": "execute_result"
    }
   ],
   "source": [
    "from sklearn.metrics import mean_squared_error, mean_absolute_error, median_absolute_error\n",
    "\n",
    "\n",
    "maes = {}\n",
    "\n",
    "for i, (ax, prop) in enumerate(zip(axmatrix.flatten(), props)):\n",
    "\n",
    "\n",
    "    prop_df = duplicates_b3.loc[:, [prop + '_1', prop + '_2']].dropna()\n",
    "\n",
    "    mae = mean_absolute_error(prop_df.iloc[:, 0], (prop_df.iloc[:, 1]))\n",
    "    maes[prop] = mae\n",
    "        \n",
    "\n",
    "mae_duplicate = pd.Series(maes)\n",
    "mae_duplicate = mae_duplicate * 1000\n",
    "mae_duplicate['spectral_overlap'] /= 1000\n",
    "mae_duplicate.round(1)"
   ]
  },
  {
   "cell_type": "code",
   "execution_count": 8,
   "metadata": {},
   "outputs": [
    {
     "data": {
      "text/plain": [
       "gap                            0.052270\n",
       "homo                           0.042762\n",
       "lumo                           0.041354\n",
       "spectral_overlap             146.344069\n",
       "homo_extrapolated              0.076190\n",
       "lumo_extrapolated              0.067255\n",
       "gap_extrapolated               0.084188\n",
       "optical_lumo_extrapolated      0.060318\n",
       "dtype: float64"
      ]
     },
     "execution_count": 8,
     "metadata": {},
     "output_type": "execute_result"
    }
   ],
   "source": [
    "rmses = {}\n",
    "for prop in props:\n",
    "    prop_df = duplicates_camb.loc[:, [prop + '_1', prop + '_2']].dropna()\n",
    "    rmse = np.sqrt(mean_squared_error(prop_df.iloc[:, 0], (prop_df.iloc[:, 1])))\n",
    "    rmses[prop] = rmse\n",
    "\n",
    "rmse_duplicate_camb = pd.Series(rmses)\n",
    "rmse_duplicate_camb"
   ]
  },
  {
   "cell_type": "markdown",
   "metadata": {},
   "source": [
    "# De-duplicate datasets for training on smiles strings"
   ]
  },
  {
   "cell_type": "code",
   "execution_count": 9,
   "metadata": {},
   "outputs": [],
   "source": [
    "df_b3_dedupe = df_b3.sort_values('total_energy').drop_duplicates('smile', keep='first').drop(['mol'], 1)\n",
    "df_camb_dedupe = df_camb.sort_values('total_energy').drop_duplicates('smile', keep='first').drop(['mol'], 1)"
   ]
  },
  {
   "cell_type": "code",
   "execution_count": 17,
   "metadata": {},
   "outputs": [],
   "source": [
    "df_b3_poly = df_b3[df_b3[props].notna().all(1)]"
   ]
  },
  {
   "cell_type": "code",
   "execution_count": 18,
   "metadata": {},
   "outputs": [],
   "source": [
    "test = df_b3_poly.sample(n=5000, random_state=0)\n",
    "valid = df_b3_poly[~df_b3_poly.index.isin(test.index)].sample(n=5000, random_state=0)\n",
    "train = df_b3[~df_b3.index.isin(test.index) & ~df_b3.index.isin(valid.index)].sample(frac=1, random_state=0)"
   ]
  },
  {
   "cell_type": "code",
   "execution_count": 19,
   "metadata": {},
   "outputs": [],
   "source": [
    "test.to_csv('data/mol_test.csv', index=False)\n",
    "valid.to_csv('data/mol_valid.csv', index=False)\n",
    "train.to_csv('data/mol_train.csv', index=False)"
   ]
  }
 ],
 "metadata": {
  "kernelspec": {
   "display_name": "Python 3",
   "language": "python",
   "name": "python3"
  },
  "language_info": {
   "codemirror_mode": {
    "name": "ipython",
    "version": 3
   },
   "file_extension": ".py",
   "mimetype": "text/x-python",
   "name": "python",
   "nbconvert_exporter": "python",
   "pygments_lexer": "ipython3",
   "version": "3.6.6"
  }
 },
 "nbformat": 4,
 "nbformat_minor": 2
}

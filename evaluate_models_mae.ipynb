{
 "cells": [
  {
   "cell_type": "code",
   "execution_count": 5,
   "metadata": {},
   "outputs": [],
   "source": [
    "import numpy as np\n",
    "import pandas as pd\n",
    "\n",
    "import matplotlib.pyplot as plt\n",
    "import seaborn as sns\n",
    "sns.set(context='talk', style='ticks',\n",
    "        color_codes=True, rc={'legend.frameon': False})\n",
    "\n",
    "%matplotlib inline"
   ]
  },
  {
   "cell_type": "code",
   "execution_count": 18,
   "metadata": {},
   "outputs": [],
   "source": [
    "# Load the input data\n",
    "mol_train = pd.read_csv('data/mol_train.csv.gz')\n",
    "mol_valid = pd.read_csv('data/mol_valid.csv.gz')\n",
    "mol_test = pd.read_csv('data/mol_test.csv.gz')\n",
    "\n",
    "smiles_train = pd.read_csv('data/smiles_train.csv.gz', index_col=0)\n",
    "smiles_valid = pd.read_csv('data/smiles_valid.csv.gz', index_col=0)\n",
    "smiles_test = pd.read_csv('data/smiles_test.csv.gz', index_col=0)"
   ]
  },
  {
   "cell_type": "code",
   "execution_count": 7,
   "metadata": {},
   "outputs": [],
   "source": [
    "from keras.models import load_model\n",
    "from nfp import custom_layers\n",
    "from nfp.preprocessing import GraphSequence\n",
    "import warnings\n",
    "import pickle\n",
    "from tqdm import tqdm"
   ]
  },
  {
   "cell_type": "code",
   "execution_count": 8,
   "metadata": {},
   "outputs": [],
   "source": [
    "props = ['gap', 'homo', 'lumo', 'spectral_overlap', 'homo_extrapolated',\n",
    "         'lumo_extrapolated', 'gap_extrapolated', 'optical_lumo_extrapolated']\n",
    "\n",
    "def mae(true, pred):\n",
    "    return np.nanmean(np.abs(true - pred), 0)"
   ]
  },
  {
   "cell_type": "code",
   "execution_count": 9,
   "metadata": {},
   "outputs": [
    {
     "name": "stderr",
     "output_type": "stream",
     "text": [
      "100%|██████████| 5000/5000 [00:10<00:00, 477.93it/s]\n"
     ]
    }
   ],
   "source": [
    "with warnings.catch_warnings():\n",
    "    warnings.simplefilter(\"ignore\")\n",
    "    model = load_model('b3lyp_2D_noatom_bn_fixed/best_model.hdf5',\n",
    "                       custom_objects=custom_layers)\n",
    "    \n",
    "with open('b3lyp_2D_noatom_bn_fixed/preprocessor.p', 'rb') as f:\n",
    "    preprocessor = pickle.load(f)\n",
    "    \n",
    "with open('b3lyp_2D_noatom_bn_fixed/y_scaler.p', 'rb') as f:\n",
    "    y_scaler = pickle.load(f)\n",
    "\n",
    "inputs_test = preprocessor.predict(smiles_test.smile)\n",
    "test_inputs_seq = GraphSequence(inputs_test, shuffle=False, final_batch=True, batch_size=128)"
   ]
  },
  {
   "cell_type": "code",
   "execution_count": 10,
   "metadata": {},
   "outputs": [
    {
     "name": "stderr",
     "output_type": "stream",
     "text": [
      "100%|██████████| 80823/80823 [03:42<00:00, 363.48it/s]\n"
     ]
    }
   ],
   "source": [
    "inputs_train = preprocessor.predict(smiles_train.smile)"
   ]
  },
  {
   "cell_type": "code",
   "execution_count": 19,
   "metadata": {},
   "outputs": [
    {
     "data": {
      "text/plain": [
       "424"
      ]
     },
     "execution_count": 19,
     "metadata": {},
     "output_type": "execute_result"
    }
   ],
   "source": [
    "max((item['n_bond'] for item in inputs_train))"
   ]
  },
  {
   "cell_type": "code",
   "execution_count": null,
   "metadata": {},
   "outputs": [],
   "source": [
    "p"
   ]
  },
  {
   "cell_type": "code",
   "execution_count": 40,
   "metadata": {},
   "outputs": [
    {
     "name": "stdout",
     "output_type": "stream",
     "text": [
      "40/40 [==============================] - 5s 134ms/step\n"
     ]
    },
    {
     "data": {
      "text/plain": [
       "gap                           37.2\n",
       "homo                          32.2\n",
       "lumo                          32.1\n",
       "spectral_overlap             158.2\n",
       "homo_extrapolated             49.6\n",
       "lumo_extrapolated             48.4\n",
       "gap_extrapolated              56.7\n",
       "optical_lumo_extrapolated     46.1\n",
       "Name: b3lyp_2D_noatom_bn_fixed, dtype: float64"
      ]
     },
     "execution_count": 40,
     "metadata": {},
     "output_type": "execute_result"
    }
   ],
   "source": [
    "y_pred_test = y_scaler.inverse_transform(\n",
    "    model.predict_generator(test_inputs_seq, verbose=True))\n",
    "\n",
    "y_true = smiles_test.set_index('smile').values\n",
    "mae_2d = pd.Series({props[i]: mae(y_pred_test[:, i], y_true[:, i]) for i in range(8)},\n",
    "                     name='b3lyp_2D_noatom_bn_fixed')\n",
    "\n",
    "mae_2d = mae_2d * 1000\n",
    "mae_2d['spectral_overlap'] /= 1000\n",
    "mae_2d.round(1)"
   ]
  },
  {
   "cell_type": "code",
   "execution_count": 35,
   "metadata": {},
   "outputs": [],
   "source": [
    "y_multitarget = pd.DataFrame(y_pred_test, columns=props)"
   ]
  },
  {
   "cell_type": "code",
   "execution_count": 9,
   "metadata": {},
   "outputs": [
    {
     "name": "stderr",
     "output_type": "stream",
     "text": [
      "  1%|          | 62/5000 [00:00<00:16, 303.58it/s]"
     ]
    },
    {
     "name": "stdout",
     "output_type": "stream",
     "text": [
      "gap\n"
     ]
    },
    {
     "name": "stderr",
     "output_type": "stream",
     "text": [
      "100%|██████████| 5000/5000 [00:11<00:00, 444.43it/s]\n"
     ]
    },
    {
     "name": "stdout",
     "output_type": "stream",
     "text": [
      "40/40 [==============================] - 5s 134ms/step\n"
     ]
    },
    {
     "name": "stderr",
     "output_type": "stream",
     "text": [
      "  1%|          | 28/5000 [00:00<00:17, 279.44it/s]"
     ]
    },
    {
     "name": "stdout",
     "output_type": "stream",
     "text": [
      "homo\n"
     ]
    },
    {
     "name": "stderr",
     "output_type": "stream",
     "text": [
      "100%|██████████| 5000/5000 [00:11<00:00, 426.40it/s]\n"
     ]
    },
    {
     "name": "stdout",
     "output_type": "stream",
     "text": [
      "40/40 [==============================] - 5s 135ms/step\n"
     ]
    },
    {
     "name": "stderr",
     "output_type": "stream",
     "text": [
      "\r",
      "  0%|          | 0/5000 [00:00<?, ?it/s]"
     ]
    },
    {
     "name": "stdout",
     "output_type": "stream",
     "text": [
      "lumo\n"
     ]
    },
    {
     "name": "stderr",
     "output_type": "stream",
     "text": [
      "100%|██████████| 5000/5000 [00:10<00:00, 462.64it/s]\n"
     ]
    },
    {
     "name": "stdout",
     "output_type": "stream",
     "text": [
      "40/40 [==============================] - 6s 138ms/step\n"
     ]
    },
    {
     "name": "stderr",
     "output_type": "stream",
     "text": [
      "  0%|          | 24/5000 [00:00<00:20, 237.36it/s]"
     ]
    },
    {
     "name": "stdout",
     "output_type": "stream",
     "text": [
      "spectral_overlap\n"
     ]
    },
    {
     "name": "stderr",
     "output_type": "stream",
     "text": [
      "100%|██████████| 5000/5000 [00:10<00:00, 460.48it/s]\n"
     ]
    },
    {
     "name": "stdout",
     "output_type": "stream",
     "text": [
      "40/40 [==============================] - 6s 139ms/step\n"
     ]
    },
    {
     "name": "stderr",
     "output_type": "stream",
     "text": [
      "\r",
      "  0%|          | 0/5000 [00:00<?, ?it/s]"
     ]
    },
    {
     "name": "stdout",
     "output_type": "stream",
     "text": [
      "homo_extrapolated\n"
     ]
    },
    {
     "name": "stderr",
     "output_type": "stream",
     "text": [
      "100%|██████████| 5000/5000 [00:10<00:00, 486.61it/s]\n"
     ]
    },
    {
     "name": "stdout",
     "output_type": "stream",
     "text": [
      "40/40 [==============================] - 6s 141ms/step\n"
     ]
    },
    {
     "name": "stderr",
     "output_type": "stream",
     "text": [
      "\r",
      "  0%|          | 0/5000 [00:00<?, ?it/s]"
     ]
    },
    {
     "name": "stdout",
     "output_type": "stream",
     "text": [
      "lumo_extrapolated\n"
     ]
    },
    {
     "name": "stderr",
     "output_type": "stream",
     "text": [
      "100%|██████████| 5000/5000 [00:10<00:00, 493.28it/s]\n"
     ]
    },
    {
     "name": "stdout",
     "output_type": "stream",
     "text": [
      "40/40 [==============================] - 6s 147ms/step\n"
     ]
    },
    {
     "name": "stderr",
     "output_type": "stream",
     "text": [
      "  0%|          | 25/5000 [00:00<00:20, 246.47it/s]"
     ]
    },
    {
     "name": "stdout",
     "output_type": "stream",
     "text": [
      "gap_extrapolated\n"
     ]
    },
    {
     "name": "stderr",
     "output_type": "stream",
     "text": [
      "100%|██████████| 5000/5000 [00:10<00:00, 490.80it/s]\n"
     ]
    },
    {
     "name": "stdout",
     "output_type": "stream",
     "text": [
      "40/40 [==============================] - 6s 150ms/step\n"
     ]
    },
    {
     "name": "stderr",
     "output_type": "stream",
     "text": [
      "  0%|          | 25/5000 [00:00<00:20, 244.09it/s]"
     ]
    },
    {
     "name": "stdout",
     "output_type": "stream",
     "text": [
      "optical_lumo_extrapolated\n"
     ]
    },
    {
     "name": "stderr",
     "output_type": "stream",
     "text": [
      "100%|██████████| 5000/5000 [00:10<00:00, 497.29it/s]\n"
     ]
    },
    {
     "name": "stdout",
     "output_type": "stream",
     "text": [
      "40/40 [==============================] - 6s 145ms/step\n"
     ]
    }
   ],
   "source": [
    "st_predictions = []\n",
    "\n",
    "for prop in props:\n",
    "    print(prop)\n",
    "    \n",
    "    model_name = 'b3lyp_2d_{}'.format(prop)\n",
    "\n",
    "    with open('{}/preprocessor.p'.format(model_name), 'rb') as f:\n",
    "        preprocessor = pickle.load(f)\n",
    "        \n",
    "    with open('{}/y_scaler.p'.format(model_name), 'rb') as f:\n",
    "        y_scaler = pickle.load(f)\n",
    "\n",
    "    inputs_test = preprocessor.predict(smiles_test.smile)\n",
    "    test_inputs_seq = GraphSequence(inputs_test, shuffle=False, final_batch=True, batch_size=128)\n",
    "\n",
    "    with warnings.catch_warnings():\n",
    "        warnings.simplefilter(\"ignore\")\n",
    "        model = load_model('{}/best_model.hdf5'.format(model_name),\n",
    "                           custom_objects=custom_layers)\n",
    "\n",
    "    y_pred_test = y_scaler.inverse_transform(\n",
    "        model.predict_generator(test_inputs_seq, verbose=True))\n",
    "    st_predictions += [y_pred_test]"
   ]
  },
  {
   "cell_type": "code",
   "execution_count": 39,
   "metadata": {},
   "outputs": [
    {
     "data": {
      "text/plain": [
       "gap                           36.9\n",
       "homo                          32.1\n",
       "lumo                          27.9\n",
       "spectral_overlap             149.3\n",
       "homo_extrapolated             49.1\n",
       "lumo_extrapolated             47.8\n",
       "gap_extrapolated              57.1\n",
       "optical_lumo_extrapolated     47.8\n",
       "Name: b3lyp_2d_st, dtype: float64"
      ]
     },
     "execution_count": 39,
     "metadata": {},
     "output_type": "execute_result"
    }
   ],
   "source": [
    "y_2d_st = pd.DataFrame([i.flatten() for i in st_predictions], index=props).T\n",
    "\n",
    "mae_2d_st = pd.Series({props[i]: mae(smiles_test[props].values[:, i], y_2d_st.values[:, i]) for i in range(8)},\n",
    "                         name='b3lyp_2d_st')\n",
    "\n",
    "mae_2d_st = mae_2d_st * 1000\n",
    "mae_2d_st['spectral_overlap'] /= 1000\n",
    "mae_2d_st.round(1)"
   ]
  },
  {
   "cell_type": "code",
   "execution_count": 13,
   "metadata": {},
   "outputs": [],
   "source": [
    "def rbf_expansion(distances, mu=0, delta=0.2, kmax=150):\n",
    "    k = np.arange(0, kmax)\n",
    "    logits = -(np.atleast_2d(distances).T - (-mu + delta * k))**2 / delta\n",
    "    return np.exp(logits)\n",
    "\n",
    "def precalc_rbfs(inputs):\n",
    "\n",
    "    for item in tqdm(inputs):\n",
    "\n",
    "        item['distance_rbf'] = rbf_expansion(item['distance'])\n",
    "        del item['distance']\n",
    "\n",
    "    return inputs"
   ]
  },
  {
   "cell_type": "code",
   "execution_count": 14,
   "metadata": {},
   "outputs": [
    {
     "name": "stderr",
     "output_type": "stream",
     "text": [
      "15it [00:00, 133.71it/s]"
     ]
    },
    {
     "name": "stdout",
     "output_type": "stream",
     "text": [
      "gap\n"
     ]
    },
    {
     "name": "stderr",
     "output_type": "stream",
     "text": [
      "5000it [00:21, 235.53it/s]\n",
      "100%|██████████| 5000/5000 [00:14<00:00, 343.83it/s]\n"
     ]
    },
    {
     "name": "stdout",
     "output_type": "stream",
     "text": [
      "157/157 [==============================] - 15s 94ms/step\n"
     ]
    },
    {
     "name": "stderr",
     "output_type": "stream",
     "text": [
      "\r",
      "0it [00:00, ?it/s]"
     ]
    },
    {
     "name": "stdout",
     "output_type": "stream",
     "text": [
      "homo\n"
     ]
    },
    {
     "name": "stderr",
     "output_type": "stream",
     "text": [
      "5000it [00:20, 238.49it/s]\n",
      "100%|██████████| 5000/5000 [00:14<00:00, 355.57it/s]\n"
     ]
    },
    {
     "name": "stdout",
     "output_type": "stream",
     "text": [
      "157/157 [==============================] - 10s 64ms/step\n",
      "lumo\n"
     ]
    },
    {
     "name": "stderr",
     "output_type": "stream",
     "text": [
      "5000it [00:21, 234.49it/s]\n",
      "100%|██████████| 5000/5000 [00:14<00:00, 342.00it/s]\n"
     ]
    },
    {
     "name": "stdout",
     "output_type": "stream",
     "text": [
      "157/157 [==============================] - 11s 70ms/step\n",
      "spectral_overlap\n"
     ]
    },
    {
     "name": "stderr",
     "output_type": "stream",
     "text": [
      "5000it [00:21, 233.09it/s]\n",
      "100%|██████████| 5000/5000 [00:14<00:00, 341.56it/s]\n"
     ]
    },
    {
     "name": "stdout",
     "output_type": "stream",
     "text": [
      "157/157 [==============================] - 11s 73ms/step\n",
      "homo_extrapolated\n"
     ]
    },
    {
     "name": "stderr",
     "output_type": "stream",
     "text": [
      "5000it [00:21, 231.24it/s]\n",
      "100%|██████████| 5000/5000 [00:14<00:00, 346.52it/s]\n"
     ]
    },
    {
     "name": "stdout",
     "output_type": "stream",
     "text": [
      "157/157 [==============================] - 12s 78ms/step\n"
     ]
    },
    {
     "name": "stderr",
     "output_type": "stream",
     "text": [
      "\r",
      "0it [00:00, ?it/s]"
     ]
    },
    {
     "name": "stdout",
     "output_type": "stream",
     "text": [
      "lumo_extrapolated\n"
     ]
    },
    {
     "name": "stderr",
     "output_type": "stream",
     "text": [
      "5000it [00:21, 237.00it/s]\n",
      "100%|██████████| 5000/5000 [00:13<00:00, 371.93it/s]\n"
     ]
    },
    {
     "name": "stdout",
     "output_type": "stream",
     "text": [
      "157/157 [==============================] - 13s 83ms/step\n"
     ]
    },
    {
     "name": "stderr",
     "output_type": "stream",
     "text": [
      "\r",
      "0it [00:00, ?it/s]"
     ]
    },
    {
     "name": "stdout",
     "output_type": "stream",
     "text": [
      "gap_extrapolated\n"
     ]
    },
    {
     "name": "stderr",
     "output_type": "stream",
     "text": [
      "5000it [00:21, 233.04it/s]\n",
      "100%|██████████| 5000/5000 [00:13<00:00, 367.51it/s]\n"
     ]
    },
    {
     "name": "stdout",
     "output_type": "stream",
     "text": [
      "157/157 [==============================] - 14s 90ms/step\n"
     ]
    },
    {
     "name": "stderr",
     "output_type": "stream",
     "text": [
      "\r",
      "0it [00:00, ?it/s]"
     ]
    },
    {
     "name": "stdout",
     "output_type": "stream",
     "text": [
      "optical_lumo_extrapolated\n"
     ]
    },
    {
     "name": "stderr",
     "output_type": "stream",
     "text": [
      "5000it [00:22, 221.40it/s]\n",
      "100%|██████████| 5000/5000 [00:13<00:00, 363.97it/s]\n"
     ]
    },
    {
     "name": "stdout",
     "output_type": "stream",
     "text": [
      "157/157 [==============================] - 14s 88ms/step\n"
     ]
    }
   ],
   "source": [
    "from rdkit.Chem import MolFromMolBlock\n",
    "from nfp.preprocessing import RobustNanScaler\n",
    "\n",
    "schnet_predictions = []\n",
    "for prop in props:\n",
    "    print(prop)\n",
    "    \n",
    "    model_name = 'b3lyp_schnet2_{}'.format(prop)\n",
    "\n",
    "    with open('{}/schnet_preprocessor.p'.format(model_name), 'rb') as f:\n",
    "        schnet_preprocessor = pickle.load(f)\n",
    "\n",
    "    inputs_test = schnet_preprocessor.predict((MolFromMolBlock(mol) for _, mol in mol_test.mol.iteritems()))\n",
    "    rbf_inputs_test = precalc_rbfs(list(inputs_test))\n",
    "    rbf_input_seq = GraphSequence(rbf_inputs_test, shuffle=False, batch_size=32)\n",
    "\n",
    "    with warnings.catch_warnings():\n",
    "        warnings.simplefilter(\"ignore\")\n",
    "        model = load_model('{}/best_model.hdf5'.format(model_name),\n",
    "                           custom_objects=custom_layers)\n",
    "\n",
    "    itrain = mol_train[mol_train[prop].notna()]\n",
    "\n",
    "    # Rescale Y matrix\n",
    "    y_train_raw = itrain[[prop]].values\n",
    "\n",
    "    y_scaler = RobustNanScaler()\n",
    "    y_scaler.fit(y_train_raw)\n",
    "\n",
    "    y_pred = model.predict_generator(rbf_input_seq, verbose=True)\n",
    "    schnet_predictions += [y_scaler.inverse_transform(y_pred)]"
   ]
  },
  {
   "cell_type": "code",
   "execution_count": 15,
   "metadata": {},
   "outputs": [],
   "source": [
    "y_schnet = pd.DataFrame([i.flatten() for i in schnet_predictions], index=props).T"
   ]
  },
  {
   "cell_type": "code",
   "execution_count": 41,
   "metadata": {},
   "outputs": [
    {
     "data": {
      "text/plain": [
       "gap                          32.7\n",
       "homo                         27.0\n",
       "lumo                         24.8\n",
       "spectral_overlap             96.6\n",
       "homo_extrapolated            56.9\n",
       "lumo_extrapolated            56.8\n",
       "gap_extrapolated             69.8\n",
       "optical_lumo_extrapolated    57.2\n",
       "Name: b3lyp_schnet, dtype: float64"
      ]
     },
     "execution_count": 41,
     "metadata": {},
     "output_type": "execute_result"
    }
   ],
   "source": [
    "mae_schnet = pd.Series({props[i]: mae(mol_test[props].values[:, i], y_schnet.values[:, i]) for i in range(8)},\n",
    "                         name='b3lyp_schnet')\n",
    "mae_schnet = mae_schnet * 1000\n",
    "mae_schnet['spectral_overlap'] /= 1000\n",
    "mae_schnet.round(1)"
   ]
  },
  {
   "cell_type": "markdown",
   "metadata": {},
   "source": [
    "# Predictions using UFF reoptimized molecules"
   ]
  },
  {
   "cell_type": "code",
   "execution_count": 17,
   "metadata": {},
   "outputs": [],
   "source": [
    "mol_test_uff = pd.read_csv('data/mol_test_uff.csv.gz')"
   ]
  },
  {
   "cell_type": "code",
   "execution_count": 23,
   "metadata": {},
   "outputs": [
    {
     "name": "stderr",
     "output_type": "stream",
     "text": [
      "14it [00:00, 132.58it/s]"
     ]
    },
    {
     "name": "stdout",
     "output_type": "stream",
     "text": [
      "gap\n"
     ]
    },
    {
     "name": "stderr",
     "output_type": "stream",
     "text": [
      "5000it [00:21, 228.04it/s]\n",
      "100%|██████████| 5000/5000 [00:14<00:00, 336.39it/s]\n"
     ]
    },
    {
     "name": "stdout",
     "output_type": "stream",
     "text": [
      "157/157 [==============================] - 17s 108ms/step\n"
     ]
    },
    {
     "name": "stderr",
     "output_type": "stream",
     "text": [
      "\r",
      "0it [00:00, ?it/s]"
     ]
    },
    {
     "name": "stdout",
     "output_type": "stream",
     "text": [
      "homo\n"
     ]
    },
    {
     "name": "stderr",
     "output_type": "stream",
     "text": [
      "5000it [00:22, 220.50it/s]\n",
      "100%|██████████| 5000/5000 [00:17<00:00, 287.43it/s]\n"
     ]
    },
    {
     "name": "stdout",
     "output_type": "stream",
     "text": [
      "157/157 [==============================] - 16s 103ms/step\n"
     ]
    },
    {
     "name": "stderr",
     "output_type": "stream",
     "text": [
      "\r",
      "0it [00:00, ?it/s]"
     ]
    },
    {
     "name": "stdout",
     "output_type": "stream",
     "text": [
      "lumo\n"
     ]
    },
    {
     "name": "stderr",
     "output_type": "stream",
     "text": [
      "5000it [00:21, 229.14it/s]\n",
      "100%|██████████| 5000/5000 [00:15<00:00, 317.36it/s]\n"
     ]
    },
    {
     "name": "stdout",
     "output_type": "stream",
     "text": [
      "157/157 [==============================] - 17s 105ms/step\n"
     ]
    },
    {
     "name": "stderr",
     "output_type": "stream",
     "text": [
      "\r",
      "0it [00:00, ?it/s]"
     ]
    },
    {
     "name": "stdout",
     "output_type": "stream",
     "text": [
      "spectral_overlap\n"
     ]
    },
    {
     "name": "stderr",
     "output_type": "stream",
     "text": [
      "5000it [00:22, 220.72it/s]\n",
      "100%|██████████| 5000/5000 [00:15<00:00, 322.30it/s]\n"
     ]
    },
    {
     "name": "stdout",
     "output_type": "stream",
     "text": [
      "157/157 [==============================] - 17s 105ms/step\n"
     ]
    },
    {
     "name": "stderr",
     "output_type": "stream",
     "text": [
      "\r",
      "0it [00:00, ?it/s]"
     ]
    },
    {
     "name": "stdout",
     "output_type": "stream",
     "text": [
      "homo_extrapolated\n"
     ]
    },
    {
     "name": "stderr",
     "output_type": "stream",
     "text": [
      "5000it [00:21, 231.76it/s]\n",
      "100%|██████████| 5000/5000 [00:15<00:00, 325.89it/s]\n"
     ]
    },
    {
     "name": "stdout",
     "output_type": "stream",
     "text": [
      "157/157 [==============================] - 17s 107ms/step\n"
     ]
    },
    {
     "name": "stderr",
     "output_type": "stream",
     "text": [
      "\r",
      "0it [00:00, ?it/s]"
     ]
    },
    {
     "name": "stdout",
     "output_type": "stream",
     "text": [
      "lumo_extrapolated\n"
     ]
    },
    {
     "name": "stderr",
     "output_type": "stream",
     "text": [
      "5000it [00:22, 224.08it/s]\n",
      "100%|██████████| 5000/5000 [00:15<00:00, 319.25it/s]\n"
     ]
    },
    {
     "name": "stdout",
     "output_type": "stream",
     "text": [
      "157/157 [==============================] - 17s 106ms/step\n"
     ]
    },
    {
     "name": "stderr",
     "output_type": "stream",
     "text": [
      "\r",
      "0it [00:00, ?it/s]"
     ]
    },
    {
     "name": "stdout",
     "output_type": "stream",
     "text": [
      "gap_extrapolated\n"
     ]
    },
    {
     "name": "stderr",
     "output_type": "stream",
     "text": [
      "5000it [00:21, 235.86it/s]\n",
      "100%|██████████| 5000/5000 [00:15<00:00, 324.29it/s]\n"
     ]
    },
    {
     "name": "stdout",
     "output_type": "stream",
     "text": [
      "157/157 [==============================] - 17s 107ms/step\n"
     ]
    },
    {
     "name": "stderr",
     "output_type": "stream",
     "text": [
      "\r",
      "0it [00:00, ?it/s]"
     ]
    },
    {
     "name": "stdout",
     "output_type": "stream",
     "text": [
      "optical_lumo_extrapolated\n"
     ]
    },
    {
     "name": "stderr",
     "output_type": "stream",
     "text": [
      "5000it [00:21, 227.70it/s]\n",
      "100%|██████████| 5000/5000 [00:15<00:00, 317.02it/s]\n"
     ]
    },
    {
     "name": "stdout",
     "output_type": "stream",
     "text": [
      "157/157 [==============================] - 18s 112ms/step\n"
     ]
    }
   ],
   "source": [
    "schnet_predictions_uff = []\n",
    "for prop in props:\n",
    "    print(prop)\n",
    "    \n",
    "    model_name = 'b3lyp_schnet2_{}'.format(prop)\n",
    "\n",
    "    with open('{}/schnet_preprocessor.p'.format(model_name), 'rb') as f:\n",
    "        schnet_preprocessor = pickle.load(f)\n",
    "\n",
    "    inputs_test = schnet_preprocessor.predict((MolFromMolBlock(mol) for _, mol in mol_test_uff.molUFF.iteritems()))\n",
    "    rbf_inputs_test = precalc_rbfs(list(inputs_test))\n",
    "    rbf_input_seq = GraphSequence(rbf_inputs_test, shuffle=False, batch_size=32)\n",
    "\n",
    "    with warnings.catch_warnings():\n",
    "        warnings.simplefilter(\"ignore\")\n",
    "        model = load_model('{}/best_model.hdf5'.format(model_name),\n",
    "                           custom_objects=custom_layers)\n",
    "\n",
    "    itrain = mol_train[mol_train[prop].notna()]\n",
    "\n",
    "    # Rescale Y matrix\n",
    "    y_train_raw = itrain[[prop]].values\n",
    "\n",
    "    y_scaler = RobustNanScaler()\n",
    "    y_scaler.fit(y_train_raw)\n",
    "\n",
    "    y_pred = model.predict_generator(rbf_input_seq, verbose=True)\n",
    "    schnet_predictions_uff += [y_scaler.inverse_transform(y_pred)]"
   ]
  },
  {
   "cell_type": "code",
   "execution_count": 25,
   "metadata": {},
   "outputs": [],
   "source": [
    "y_schnet_uff = pd.DataFrame([i.flatten() for i in schnet_predictions_uff], index=props).T"
   ]
  },
  {
   "cell_type": "code",
   "execution_count": 45,
   "metadata": {},
   "outputs": [
    {
     "data": {
      "text/plain": [
       "gap                           616.0\n",
       "homo                          353.0\n",
       "lumo                          517.0\n",
       "spectral_overlap             1543.0\n",
       "homo_extrapolated             482.0\n",
       "lumo_extrapolated             472.0\n",
       "gap_extrapolated              633.0\n",
       "optical_lumo_extrapolated     457.0\n",
       "Name: b3lyp_schnet_uff, dtype: float64"
      ]
     },
     "execution_count": 45,
     "metadata": {},
     "output_type": "execute_result"
    }
   ],
   "source": [
    "mae_schnet_uff = pd.Series({props[i]: mae(mol_test[props].values[:, i], schnet_predictions_uff[i].flatten()) for i in range(8)},\n",
    "                         name='b3lyp_schnet_uff')\n",
    "\n",
    "mae_schnet_uff = mae_schnet_uff * 1000\n",
    "mae_schnet_uff['spectral_overlap'] /= 1000\n",
    "mae_schnet_uff.round(0)"
   ]
  },
  {
   "cell_type": "code",
   "execution_count": 36,
   "metadata": {},
   "outputs": [],
   "source": [
    "model_predictions = {\n",
    "    '2d_multitarget': y_multitarget,\n",
    "    '2d_singletarget': y_2d_st,\n",
    "    'schnet': y_schnet,\n",
    "    'schnet_uff': y_schnet_uff,\n",
    "}\n",
    "\n",
    "with open('model_predictions.p', 'wb') as f:\n",
    "    pickle.dump(model_predictions, f)"
   ]
  }
 ],
 "metadata": {
  "kernelspec": {
   "display_name": "Python 3",
   "language": "python",
   "name": "python3"
  },
  "language_info": {
   "codemirror_mode": {
    "name": "ipython",
    "version": 3
   },
   "file_extension": ".py",
   "mimetype": "text/x-python",
   "name": "python",
   "nbconvert_exporter": "python",
   "pygments_lexer": "ipython3",
   "version": "3.6.6"
  }
 },
 "nbformat": 4,
 "nbformat_minor": 2
}

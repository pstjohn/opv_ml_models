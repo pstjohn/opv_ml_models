{
 "cells": [
  {
   "cell_type": "code",
   "execution_count": 1,
   "metadata": {},
   "outputs": [],
   "source": [
    "import numpy as np\n",
    "import pandas as pd\n",
    "from tqdm import tqdm\n",
    "\n",
    "import matplotlib.pyplot as plt\n",
    "import seaborn as sns\n",
    "sns.set(context='talk', style='ticks',\n",
    "        color_codes=True, rc={'legend.frameon': False})\n",
    "\n",
    "%matplotlib inline"
   ]
  },
  {
   "cell_type": "code",
   "execution_count": 2,
   "metadata": {},
   "outputs": [],
   "source": [
    "mol_test = pd.read_csv('data/mol_test.csv')"
   ]
  },
  {
   "cell_type": "code",
   "execution_count": 3,
   "metadata": {},
   "outputs": [],
   "source": [
    "from rdkit import Chem\n",
    "from rdkit.Chem import AllChem"
   ]
  },
  {
   "cell_type": "code",
   "execution_count": 4,
   "metadata": {},
   "outputs": [],
   "source": [
    "def reoptimize_mol(smile):\n",
    "    try:\n",
    "        \n",
    "        mol = Chem.MolFromSmiles(mol_test.smile.iloc[1])\n",
    "        mol = Chem.AddHs(mol, addCoords=True)    \n",
    "        AllChem.EmbedMolecule(mol, useRandomCoords=True)\n",
    "        assert AllChem.UFFOptimizeMolecule(mol, maxIters=1000) == 0\n",
    "        return Chem.MolToMolBlock(mol)\n",
    "    \n",
    "    \n",
    "    except Exception:\n",
    "        print(smile)\n",
    "        return None"
   ]
  },
  {
   "cell_type": "code",
   "execution_count": 5,
   "metadata": {},
   "outputs": [
    {
     "name": "stderr",
     "output_type": "stream",
     "text": [
      "100%|██████████| 5000/5000 [13:36<00:00,  6.12it/s]\n"
     ]
    }
   ],
   "source": [
    "mols = {}\n",
    "for i, smile in tqdm(mol_test.smile.items(), total=5000):\n",
    "    mols[i] = reoptimize_mol(smile)"
   ]
  },
  {
   "cell_type": "code",
   "execution_count": 9,
   "metadata": {},
   "outputs": [],
   "source": [
    "mol_test['molUFF'] = pd.Series(mols)"
   ]
  },
  {
   "cell_type": "code",
   "execution_count": 11,
   "metadata": {},
   "outputs": [],
   "source": [
    "mol_test.to_csv('data/mol_test_uff.csv', index=False)"
   ]
  }
 ],
 "metadata": {
  "kernelspec": {
   "display_name": "Python 3",
   "language": "python",
   "name": "python3"
  },
  "language_info": {
   "codemirror_mode": {
    "name": "ipython",
    "version": 3
   },
   "file_extension": ".py",
   "mimetype": "text/x-python",
   "name": "python",
   "nbconvert_exporter": "python",
   "pygments_lexer": "ipython3",
   "version": "3.6.6"
  }
 },
 "nbformat": 4,
 "nbformat_minor": 2
}
